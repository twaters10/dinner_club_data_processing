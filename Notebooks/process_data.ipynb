{
 "cells": [
  {
   "cell_type": "code",
   "execution_count": 1,
   "metadata": {},
   "outputs": [
    {
     "name": "stdout",
     "output_type": "stream",
     "text": [
      "            Timestamp Respondent Name             Restaurant  \\\n",
      "0  8/10/2025 13:31:23          Taylor              Mala Pata   \n",
      "1  8/10/2025 14:22:56          Taylor  Naos Hellenic Cuisine   \n",
      "2  8/10/2025 19:26:17           Emily              Mala Pata   \n",
      "3  8/10/2025 19:26:41           Emily  Naos Hellenic Cuisine   \n",
      "\n",
      "  Food Quality (0 - 10) Ambience  Bathroom Quality Food Portion Size (0 - 10)  \\\n",
      "0                     7         5                3                          7   \n",
      "1                     8         9                8                          8   \n",
      "2                     8         4                5                          5   \n",
      "3                     9        10               10                          8   \n",
      "\n",
      "  Service (0 - 10) Notes (Optional) Drinks (0 - 10) Column 8  \n",
      "0                8                                4           \n",
      "1                7                                7           \n",
      "2                8                                9           \n",
      "3                8                                9           \n"
     ]
    }
   ],
   "source": [
    "import gspread\n",
    "import pandas as pd\n",
    "from oauth2client.service_account import ServiceAccountCredentials\n",
    "\n",
    "# Step 1: Authenticate with Google Sheets\n",
    "# Define the scope and path to your service account key file\n",
    "scope = ['https://spreadsheets.google.com/feeds',\n",
    "         'https://www.googleapis.com/auth/drive']\n",
    "creds = ServiceAccountCredentials.from_json_keyfile_name('/Users/tawate/Documents/Dinner Club/clean-terminal-468616-k8-06169f567f7e.json', scope)\n",
    "client = gspread.authorize(creds)\n",
    "\n",
    "# Step 2: Open the spreadsheet\n",
    "# You can open it by title, key, or URL\n",
    "try:\n",
    "    # Open by title\n",
    "    sheet = client.open(\"Dinner Club Ranking (Responses)\").sheet1  # Use .sheet1 for the first worksheet\n",
    "\n",
    "    # Or, open by spreadsheet key (the long string in the URL)\n",
    "    # sheet = client.open_by_key(\"your-spreadsheet-key\").sheet1\n",
    "\n",
    "    # Or, open by URL\n",
    "    # sheet_url = \"https://docs.google.com/spreadsheets/d/your-spreadsheet-key/edit\"\n",
    "    # sheet = client.open_by_url(sheet_url).sheet1\n",
    "\n",
    "except gspread.exceptions.SpreadsheetNotFound:\n",
    "    print(\"Spreadsheet not found. Please check the title and sharing permissions.\")\n",
    "    exit()\n",
    "\n",
    "# Step 3: Get all the data from the worksheet\n",
    "data = sheet.get_all_values()\n",
    "\n",
    "# Step 4: Convert the data into a pandas DataFrame\n",
    "# The first row is typically the header\n",
    "headers = data[0]\n",
    "df = pd.DataFrame(data[1:], columns=headers)\n",
    "\n",
    "# Display the DataFrame\n",
    "print(df.head())\n",
    "\n",
    "# You can now work with the pandas DataFrame as you normally would\n",
    "# For example, to print a specific column:\n",
    "# print(df['Column Name'])"
   ]
  },
  {
   "cell_type": "code",
   "execution_count": 27,
   "metadata": {},
   "outputs": [
    {
     "name": "stdout",
     "output_type": "stream",
     "text": [
      "Total weight of all categories: 1.0\n",
      "\n"
     ]
    }
   ],
   "source": [
    "# Apply Weights to each category\n",
    "restaurant_rankings = {\n",
    "    'Food Taste': {\n",
    "        'weight': 0.5\n",
    "    },\n",
    "    'Food Portion Size': {\n",
    "        'weight': 0.1\n",
    "    },\n",
    "    'Drinks': {\n",
    "        'weight': 0.1\n",
    "    },\n",
    "    'Service': {\n",
    "        'weight': 0.1\n",
    "    },\n",
    "    'Ambiance': {\n",
    "        'weight': 0.1\n",
    "    },\n",
    "    'Bathroom': {\n",
    "        'weight': 0.1\n",
    "    }\n",
    "} \n",
    "\n",
    "# The sum of all weights should ideally be 1.0. Let's check:\n",
    "total_weight = sum(category['weight'] for category in restaurant_rankings.values())\n",
    "print(f\"Total weight of all categories: {total_weight}\\n\")"
   ]
  },
  {
   "cell_type": "code",
   "execution_count": 28,
   "metadata": {},
   "outputs": [
    {
     "name": "stdout",
     "output_type": "stream",
     "text": [
      "  Restaurant  Food Taste  Food Portion Size  Drinks  Service  Ambiance  \\\n",
      "0  Mala Pata           7                  7       4        8         5   \n",
      "\n",
      "   Bathroom  Weighted Ranking  \n",
      "0         3               6.2  \n"
     ]
    }
   ],
   "source": [
    "# Standardize the column names in the DataFrame to match the keys in restaurant_rankings\n",
    "df.rename(columns={\n",
    "    'Food Quality': 'Food Taste',\n",
    "    'Ambience ': 'Ambiance',\n",
    "    'Bathroom Quality': 'Bathroom',\n",
    "    'Food Portion Size (10 = Large, 1 = Small)': 'Food Portion Size',\n",
    "    'Service': 'Service',\n",
    "    'Drinks': 'Drinks'\n",
    "}, inplace=True)\n",
    "\n",
    "# Convert relevant columns to numeric, handling potential errors\n",
    "cols_to_convert = ['Food Taste', 'Food Portion Size', 'Service', 'Ambiance', 'Bathroom', 'Drinks']\n",
    "for col in cols_to_convert:\n",
    "    df[col] = pd.to_numeric(df[col], errors='coerce')  # 'coerce' will turn invalid parsing into NaN\n",
    "\n",
    "# Function to calculate weighted ranking\n",
    "def calculate_weighted_ranking(row):\n",
    "    weighted_sum = 0\n",
    "    for category, details in restaurant_rankings.items():\n",
    "        if category in row.index:  # Check if the category exists in the row\n",
    "            weighted_sum += row[category] * details['weight']\n",
    "    return weighted_sum\n",
    "\n",
    "# Apply the function to each row to create a 'Weighted Ranking' column\n",
    "df['Weighted Ranking'] = df.apply(calculate_weighted_ranking, axis=1)\n",
    "\n",
    "# Print the DataFrame with the new 'Weighted Ranking' column\n",
    "print(df[['Restaurant', 'Food Taste', 'Food Portion Size', 'Drinks', 'Service', 'Ambiance', 'Bathroom', 'Weighted Ranking']].head())"
   ]
  },
  {
   "cell_type": "code",
   "execution_count": 29,
   "metadata": {},
   "outputs": [
    {
     "name": "stdout",
     "output_type": "stream",
     "text": [
      "Average Weighted Ranking by Restaurant:\n",
      " Restaurant\n",
      "Mala Pata    6.2\n",
      "Name: Weighted Ranking, dtype: float64\n"
     ]
    }
   ],
   "source": [
    "# Calculate average Weighted Ranking by Restaurant\n",
    "average_rankings = df.groupby('Restaurant')['Weighted Ranking'].mean().sort_values(ascending=False)\n",
    "\n",
    "# Print the average rankings\n",
    "print(\"Average Weighted Ranking by Restaurant:\\n\", average_rankings)"
   ]
  },
  {
   "cell_type": "code",
   "execution_count": 31,
   "metadata": {},
   "outputs": [
    {
     "name": "stderr",
     "output_type": "stream",
     "text": [
      "2025-08-10 13:38:55.379 WARNING streamlit.runtime.scriptrunner_utils.script_run_context: Thread 'MainThread': missing ScriptRunContext! This warning can be ignored when running in bare mode.\n",
      "2025-08-10 13:38:55.491 \n",
      "  \u001b[33m\u001b[1mWarning:\u001b[0m to view this Streamlit app on a browser, run it with the following\n",
      "  command:\n",
      "\n",
      "    streamlit run /Users/tawate/Documents/Dinner Club/.venv/lib/python3.12/site-packages/ipykernel_launcher.py [ARGUMENTS]\n",
      "2025-08-10 13:38:55.492 Thread 'MainThread': missing ScriptRunContext! This warning can be ignored when running in bare mode.\n",
      "2025-08-10 13:38:55.492 Thread 'MainThread': missing ScriptRunContext! This warning can be ignored when running in bare mode.\n",
      "2025-08-10 13:38:55.492 Thread 'MainThread': missing ScriptRunContext! This warning can be ignored when running in bare mode.\n",
      "2025-08-10 13:38:55.493 Thread 'MainThread': missing ScriptRunContext! This warning can be ignored when running in bare mode.\n",
      "2025-08-10 13:38:55.493 Thread 'MainThread': missing ScriptRunContext! This warning can be ignored when running in bare mode.\n",
      "2025-08-10 13:38:55.493 Thread 'MainThread': missing ScriptRunContext! This warning can be ignored when running in bare mode.\n",
      "2025-08-10 13:38:55.493 Thread 'MainThread': missing ScriptRunContext! This warning can be ignored when running in bare mode.\n",
      "2025-08-10 13:38:55.494 Thread 'MainThread': missing ScriptRunContext! This warning can be ignored when running in bare mode.\n",
      "2025-08-10 13:38:55.494 Thread 'MainThread': missing ScriptRunContext! This warning can be ignored when running in bare mode.\n",
      "2025-08-10 13:38:55.494 Session state does not function when running a script without `streamlit run`\n",
      "2025-08-10 13:38:55.495 Thread 'MainThread': missing ScriptRunContext! This warning can be ignored when running in bare mode.\n",
      "2025-08-10 13:38:55.495 Thread 'MainThread': missing ScriptRunContext! This warning can be ignored when running in bare mode.\n",
      "2025-08-10 13:38:55.495 Thread 'MainThread': missing ScriptRunContext! This warning can be ignored when running in bare mode.\n",
      "2025-08-10 13:38:55.495 Thread 'MainThread': missing ScriptRunContext! This warning can be ignored when running in bare mode.\n",
      "2025-08-10 13:38:55.496 Thread 'MainThread': missing ScriptRunContext! This warning can be ignored when running in bare mode.\n",
      "2025-08-10 13:38:55.496 Thread 'MainThread': missing ScriptRunContext! This warning can be ignored when running in bare mode.\n",
      "2025-08-10 13:38:55.496 Thread 'MainThread': missing ScriptRunContext! This warning can be ignored when running in bare mode.\n",
      "2025-08-10 13:38:55.496 Thread 'MainThread': missing ScriptRunContext! This warning can be ignored when running in bare mode.\n",
      "2025-08-10 13:38:55.496 Thread 'MainThread': missing ScriptRunContext! This warning can be ignored when running in bare mode.\n",
      "2025-08-10 13:38:55.497 Thread 'MainThread': missing ScriptRunContext! This warning can be ignored when running in bare mode.\n",
      "2025-08-10 13:38:55.499 Thread 'MainThread': missing ScriptRunContext! This warning can be ignored when running in bare mode.\n",
      "2025-08-10 13:38:55.499 Thread 'MainThread': missing ScriptRunContext! This warning can be ignored when running in bare mode.\n",
      "2025-08-10 13:38:55.500 Thread 'MainThread': missing ScriptRunContext! This warning can be ignored when running in bare mode.\n",
      "2025-08-10 13:38:55.500 Thread 'MainThread': missing ScriptRunContext! This warning can be ignored when running in bare mode.\n",
      "2025-08-10 13:38:55.500 Thread 'MainThread': missing ScriptRunContext! This warning can be ignored when running in bare mode.\n"
     ]
    },
    {
     "data": {
      "text/plain": [
       "DeltaGenerator()"
      ]
     },
     "execution_count": 31,
     "metadata": {},
     "output_type": "execute_result"
    }
   ],
   "source": [
    "import streamlit as st\n",
    "import pandas as pd\n",
    "import plotly.graph_objects as go\n",
    "\n",
    "# Assuming df and restaurant_rankings are already defined as in previous cells\n",
    "\n",
    "# Get unique restaurants and respondents\n",
    "restaurants = df['Restaurant'].unique()\n",
    "respondents = df['Name'].unique()\n",
    "\n",
    "# Streamlit app layout with sidebar\n",
    "st.sidebar.header(\"Filters\")\n",
    "\n",
    "# Add selectbox for restaurant and respondent filters in the sidebar\n",
    "selected_restaurant = st.sidebar.selectbox('Select Restaurant', ['All'] + list(restaurants))\n",
    "selected_respondent = st.sidebar.selectbox('Select Respondent', ['All'] + list(respondents))\n",
    "\n",
    "# Filter the DataFrame based on user selections\n",
    "filtered_df = df.copy()  # Start with a copy of the original DataFrame\n",
    "\n",
    "if selected_restaurant != 'All':\n",
    "    filtered_df = filtered_df[filtered_df['Restaurant'] == selected_restaurant]\n",
    "\n",
    "if selected_respondent != 'All':\n",
    "    filtered_df = filtered_df[filtered_df['Name'] == selected_respondent]\n",
    "\n",
    "# Categories for the spider plot\n",
    "categories = list(restaurant_rankings.keys())\n",
    "\n",
    "# Function to create spider plots for each restaurant\n",
    "def create_spider_plot(df):\n",
    "    fig = go.Figure()\n",
    "    \n",
    "    restaurants_to_plot = df['Restaurant'].unique()  # Use unique restaurants from the filtered DataFrame\n",
    "    \n",
    "    for restaurant in restaurants_to_plot:\n",
    "        restaurant_df = df[df['Restaurant'] == restaurant]\n",
    "        \n",
    "        avg_scores = []\n",
    "        for category in categories:\n",
    "            if category in restaurant_df.columns:\n",
    "                avg_scores.append(restaurant_df[category].mean())\n",
    "            else:\n",
    "                avg_scores.append(0)\n",
    "        \n",
    "        fig.add_trace(go.Scatterpolar(\n",
    "            r=avg_scores,\n",
    "            theta=categories,\n",
    "            fill='toself',\n",
    "            name=restaurant\n",
    "        ))\n",
    "\n",
    "    fig.update_layout(\n",
    "        polar=dict(\n",
    "            radialaxis=dict(\n",
    "                visible=True,\n",
    "                range=[0, 10]\n",
    "            )),\n",
    "        showlegend=True,\n",
    "        title='Restaurant Ranking Spider Plot'\n",
    "    )\n",
    "    return fig\n",
    "\n",
    "# Main app content\n",
    "st.title(\"Restaurant Ranking Spider Plot\")\n",
    "\n",
    "# Create and display the spider plot\n",
    "fig = create_spider_plot(filtered_df)\n",
    "st.plotly_chart(fig)\n",
    "\n",
    "# Calculate average scores per category and overall weighted ranking\n",
    "average_scores = filtered_df.groupby('Restaurant')[categories].mean()\n",
    "average_weighted_ranking = filtered_df.groupby('Restaurant')['Weighted Ranking'].mean()\n",
    "average_scores['Average Weighted Ranking'] = average_weighted_ranking\n",
    "\n",
    "# Display the average scores in a table\n",
    "st.subheader(\"Average Scores per Restaurant\")\n",
    "st.dataframe(average_scores)\n"
   ]
  },
  {
   "cell_type": "code",
   "execution_count": 32,
   "metadata": {},
   "outputs": [
    {
     "name": "stderr",
     "output_type": "stream",
     "text": [
      "2025-08-10 13:45:22.943 Thread 'MainThread': missing ScriptRunContext! This warning can be ignored when running in bare mode.\n",
      "2025-08-10 13:45:22.944 Thread 'MainThread': missing ScriptRunContext! This warning can be ignored when running in bare mode.\n",
      "2025-08-10 13:45:22.945 Thread 'MainThread': missing ScriptRunContext! This warning can be ignored when running in bare mode.\n",
      "2025-08-10 13:45:22.945 Thread 'MainThread': missing ScriptRunContext! This warning can be ignored when running in bare mode.\n",
      "2025-08-10 13:45:22.946 Thread 'MainThread': missing ScriptRunContext! This warning can be ignored when running in bare mode.\n",
      "2025-08-10 13:45:22.946 Thread 'MainThread': missing ScriptRunContext! This warning can be ignored when running in bare mode.\n",
      "2025-08-10 13:45:23.000 Thread 'MainThread': missing ScriptRunContext! This warning can be ignored when running in bare mode.\n",
      "2025-08-10 13:45:23.000 Thread 'MainThread': missing ScriptRunContext! This warning can be ignored when running in bare mode.\n",
      "2025-08-10 13:45:23.000 Thread 'MainThread': missing ScriptRunContext! This warning can be ignored when running in bare mode.\n"
     ]
    },
    {
     "name": "stdout",
     "output_type": "stream",
     "text": [
      "Average Scores per Restaurant:\n",
      "             Food Taste  Food Portion Size  Drinks  Service  Ambiance  \\\n",
      "Restaurant                                                             \n",
      "Mala Pata          7.0                7.0     4.0      8.0       5.0   \n",
      "\n",
      "            Bathroom  Average Weighted Ranking  \n",
      "Restaurant                                      \n",
      "Mala Pata        3.0                       6.2  \n"
     ]
    },
    {
     "data": {
      "text/plain": [
       "DeltaGenerator()"
      ]
     },
     "execution_count": 32,
     "metadata": {},
     "output_type": "execute_result"
    }
   ],
   "source": [
    "import streamlit as st\n",
    "\n",
    "# Calculate average scores for each category per restaurant\n",
    "average_scores = df.groupby('Restaurant')[['Food Taste', 'Food Portion Size', 'Drinks', 'Service', 'Ambiance', 'Bathroom']].mean()\n",
    "\n",
    "# Calculate average weighted ranking per restaurant (already done in CELL INDEX 3, but included here for completeness)\n",
    "average_weighted_ranking = df.groupby('Restaurant')['Weighted Ranking'].mean()\n",
    "\n",
    "# Add the average weighted ranking to the average_scores DataFrame\n",
    "average_scores['Average Weighted Ranking'] = average_weighted_ranking\n",
    "\n",
    "# Print the average scores\n",
    "print(\"Average Scores per Restaurant:\\n\", average_scores)\n",
    "# Streamlit app\n",
    "st.title(\"Average Scores per Restaurant\")\n",
    "\n",
    "# Display the average scores in a Streamlit table\n",
    "st.write(\"Average Scores per Restaurant:\")\n",
    "st.dataframe(average_scores)"
   ]
  },
  {
   "cell_type": "code",
   "execution_count": null,
   "metadata": {},
   "outputs": [],
   "source": [
    "\n",
    "\n"
   ]
  }
 ],
 "metadata": {
  "kernelspec": {
   "display_name": ".venv",
   "language": "python",
   "name": "python3"
  },
  "language_info": {
   "codemirror_mode": {
    "name": "ipython",
    "version": 3
   },
   "file_extension": ".py",
   "mimetype": "text/x-python",
   "name": "python",
   "nbconvert_exporter": "python",
   "pygments_lexer": "ipython3",
   "version": "3.12.10"
  }
 },
 "nbformat": 4,
 "nbformat_minor": 2
}
